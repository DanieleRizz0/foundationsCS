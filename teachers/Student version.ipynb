{
 "cells": [
  {
   "cell_type": "code",
   "execution_count": 57,
   "metadata": {},
   "outputs": [],
   "source": [
    "import nbformat as nbf\n",
    "from glob import glob\n",
    "import os\n",
    "import time\n",
    "\n",
    "# Collect a list of all notebooks in the content folder\n",
    "notebooks = glob(\"./*-[0-9][0-9]*.ipynb\")\n",
    "#notebooks = glob(\"./*-01-list*.ipynb\")\n",
    "#notebooks"
   ]
  },
  {
   "cell_type": "code",
   "execution_count": 58,
   "metadata": {},
   "outputs": [
    {
     "name": "stdout",
     "output_type": "stream",
     "text": [
      "updating ./py-12-TED.ipynb->../students/./py-12-TED.ipynb\n",
      "Fri Oct 30 08:24:14 2020 -> Thu Oct 29 22:23:38 2020\n",
      "True\n"
     ]
    }
   ],
   "source": [
    "for ipath in notebooks:\n",
    "    destpath = \"../students/\" + ipath\n",
    "    if not os.path.exists(dest_path) or os.path.getmtime(ipath) > os.path.getmtime(dest_path):\n",
    "    \n",
    "        print(f\"updating {ipath}->{destpath}\")\n",
    "        print(f\"{time.ctime(os.path.getmtime(ipath))} -> {time.ctime(os.path.getmtime(dest_path))}\")\n",
    "        print(os.path.getmtime(ipath) > os.path.getmtime(dest_path))\n",
    "        ntbk = nbf.read(ipath, nbf.NO_CONVERT)\n",
    "        if 'celltoolbar' in ntbk['metadata']:\n",
    "            del ntbk['metadata']['celltoolbar']\n",
    "\n",
    "        # print(ntbk)\n",
    "\n",
    "        for cell in ntbk.cells:\n",
    "            cell_tags = cell.get('metadata', {}).get('tags', [])\n",
    "            if cell['cell_type'] == 'code':\n",
    "                if 'show_output' not in cell_tags and 'outputs' in cell:\n",
    "                    cell['outputs'] = []\n",
    "                if 'show_output' not in cell_tags and 'show' not in cell_tags:\n",
    "                    cell['source'] = \"\"\n",
    "            else:\n",
    "                if 'hide' in cell_tags:\n",
    "                    cell['source'] = \"\"\n",
    "\n",
    "\n",
    "        nbf.write(ntbk, destpath)"
   ]
  },
  {
   "cell_type": "markdown",
   "metadata": {},
   "source": [
    "Look for the tags of each code cell.\n",
    "*  **show** tag means that the content of the cell is shown, but not the result\n",
    "*  **show_output** tag means that the content and the result of the cell are shown"
   ]
  },
  {
   "cell_type": "code",
   "execution_count": null,
   "metadata": {},
   "outputs": [],
   "source": []
  }
 ],
 "metadata": {
  "kernelspec": {
   "display_name": "Python 3",
   "language": "python",
   "name": "python3"
  },
  "language_info": {
   "codemirror_mode": {
    "name": "ipython",
    "version": 3
   },
   "file_extension": ".py",
   "mimetype": "text/x-python",
   "name": "python",
   "nbconvert_exporter": "python",
   "pygments_lexer": "ipython3",
   "version": "3.8.5"
  }
 },
 "nbformat": 4,
 "nbformat_minor": 4
}
