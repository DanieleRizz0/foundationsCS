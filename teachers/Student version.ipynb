{
 "cells": [
  {
   "cell_type": "code",
   "execution_count": 13,
   "metadata": {},
   "outputs": [
    {
     "name": "stdout",
     "output_type": "stream",
     "text": [
      "['./py-14-fifa-solution.ipynb', './ex-02-RE.ipynb', './lecture-py-01-basics.ipynb', './py-13-employees.ipynb', './lecture-py-03-markdown.ipynb', './py-11-f1.ipynb', './py-12-TED.ipynb', './ex-03-Debug.ipynb', './py-04-pandas.ipynb', './ex-03-books.ipynb', './ex-01-lists.ipynb', './ex-02-dicts.ipynb', './lecture-py-04-functions-libraries.ipynb', './py-08-merging.ipynb', './py-10-happiness.ipynb', './ex-05-files.ipynb', './py-05-groupby.ipynb', './py-09-Apache.ipynb', './lecture-py-02-basic-python.ipynb', './py-07-multindex.ipynb', './lecture-py-05-files.ipynb', './ex-02-RE-solution-full.ipynb']\n"
     ]
    }
   ],
   "source": [
    "import nbformat as nbf\n",
    "from glob import glob\n",
    "\n",
    "# Collect a list of all notebooks in the content folder\n",
    "notebooks = glob(\"./*-[0-9][0-9]*.ipynb\")\n",
    "#notebooks = glob(\"./*-01-list*.ipynb\")\n",
    "print(notebooks)"
   ]
  },
  {
   "cell_type": "code",
   "execution_count": 14,
   "metadata": {},
   "outputs": [],
   "source": [
    "for ipath in notebooks:\n",
    "    ntbk = nbf.read(ipath, nbf.NO_CONVERT)\n",
    "    if 'celltoolbar' in ntbk['metadata']:\n",
    "        del ntbk['metadata']['celltoolbar']\n",
    "    \n",
    "    # print(ntbk)\n",
    "    \n",
    "    for cell in ntbk.cells:\n",
    "        cell_tags = cell.get('metadata', {}).get('tags', [])\n",
    "        if cell['cell_type'] == 'code':\n",
    "            if 'show_output' not in cell_tags and 'outputs' in cell:\n",
    "                cell['outputs'] = []\n",
    "            if 'show_output' not in cell_tags and 'show' not in cell_tags:\n",
    "                cell['source'] = \"\"\n",
    "        else:\n",
    "            if 'hide' in cell_tags:\n",
    "                cell['source'] = \"\"\n",
    "               \n",
    "            \n",
    "    nbf.write(ntbk, \"../students/\" + ipath)"
   ]
  },
  {
   "cell_type": "markdown",
   "metadata": {},
   "source": [
    "Look for the tags of each code cell.\n",
    "*  **show** tag means that the content of the cell is shown, but not the result\n",
    "*  **show_output** tag means that the content and the result of the cell are shown"
   ]
  },
  {
   "cell_type": "code",
   "execution_count": null,
   "metadata": {},
   "outputs": [],
   "source": []
  }
 ],
 "metadata": {
  "kernelspec": {
   "display_name": "Python 3",
   "language": "python",
   "name": "python3"
  },
  "language_info": {
   "codemirror_mode": {
    "name": "ipython",
    "version": 3
   },
   "file_extension": ".py",
   "mimetype": "text/x-python",
   "name": "python",
   "nbconvert_exporter": "python",
   "pygments_lexer": "ipython3",
   "version": "3.8.5"
  }
 },
 "nbformat": 4,
 "nbformat_minor": 4
}
