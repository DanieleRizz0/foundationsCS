{
 "cells": [
  {
   "cell_type": "code",
   "execution_count": 27,
   "metadata": {},
   "outputs": [],
   "source": [
    "import nbformat as nbf\n",
    "from glob import glob"
   ]
  },
  {
   "cell_type": "code",
   "execution_count": 52,
   "metadata": {},
   "outputs": [],
   "source": [
    "# Collect a list of all notebooks in the content folder\n",
    "notebooks = glob(\"./*py-[0-9][0-9]*.ipynb\")"
   ]
  },
  {
   "cell_type": "code",
   "execution_count": 53,
   "metadata": {},
   "outputs": [
    {
     "data": {
      "text/plain": [
       "['./py-14-fifa-solution.ipynb',\n",
       " './py-13-employees.ipynb',\n",
       " './py-11-f1.ipynb',\n",
       " './lezione-py-03-markdown.ipynb',\n",
       " './py-12-TED.ipynb',\n",
       " './lezione-py-04-files.ipynb',\n",
       " './py-04-pandas.ipynb',\n",
       " './lezione-py-05-functions-libraries.ipynb',\n",
       " './py-08-merging.ipynb',\n",
       " './lezione-py-01-basics.ipynb',\n",
       " './py-10-happiness.ipynb',\n",
       " './py-05-groupby.ipynb',\n",
       " './py-09-Apache.ipynb',\n",
       " './py-07-multindex.ipynb',\n",
       " './lezione-py-02-basic-python.ipynb']"
      ]
     },
     "execution_count": 53,
     "metadata": {},
     "output_type": "execute_result"
    }
   ],
   "source": [
    "notebooks"
   ]
  },
  {
   "cell_type": "code",
   "execution_count": 54,
   "metadata": {},
   "outputs": [
    {
     "data": {
      "text/plain": [
       "{'cells': [{'cell_type': 'code',\n",
       "   'execution_count': None,\n",
       "   'metadata': {},\n",
       "   'outputs': [],\n",
       "   'source': 'import pandas as pd'},\n",
       "  {'cell_type': 'code',\n",
       "   'execution_count': None,\n",
       "   'metadata': {},\n",
       "   'outputs': [],\n",
       "   'source': '!ls -l ex-data/fifa18'},\n",
       "  {'cell_type': 'code',\n",
       "   'execution_count': None,\n",
       "   'metadata': {'scrolled': True},\n",
       "   'outputs': [],\n",
       "   'source': \"complete_data = pd.read_csv('ex-data/fifa18/CompleteDataset.csv', low_memory=False)\\ncomplete_data.head()\"},\n",
       "  {'cell_type': 'code',\n",
       "   'execution_count': None,\n",
       "   'metadata': {'scrolled': True},\n",
       "   'outputs': [],\n",
       "   'source': \"attribute_data = pd.read_csv('ex-data/fifa18/PlayerAttributeData.csv', low_memory=False)\\nattribute_data.head()\"},\n",
       "  {'cell_type': 'code',\n",
       "   'execution_count': None,\n",
       "   'metadata': {'scrolled': True},\n",
       "   'outputs': [],\n",
       "   'source': \"personal_data = pd.read_csv('ex-data/fifa18/PlayerPersonalData.csv')\\npersonal_data.head()\"},\n",
       "  {'cell_type': 'code',\n",
       "   'execution_count': None,\n",
       "   'metadata': {},\n",
       "   'outputs': [],\n",
       "   'source': 'personal_data.tail()'},\n",
       "  {'cell_type': 'code',\n",
       "   'execution_count': None,\n",
       "   'metadata': {'scrolled': True},\n",
       "   'outputs': [],\n",
       "   'source': \"position_data = pd.read_csv('ex-data/fifa18/PlayerPlayingPositionData.csv')\\nposition_data.head()\"},\n",
       "  {'cell_type': 'markdown',\n",
       "   'metadata': {},\n",
       "   'source': '# 1 - Replace Value and Wage with actual numbers'},\n",
       "  {'cell_type': 'code',\n",
       "   'execution_count': None,\n",
       "   'metadata': {},\n",
       "   'outputs': [],\n",
       "   'source': \"import re\\nhuman_to_int_re = re.compile('.(?P<amount>\\\\d+\\\\.{0,1}\\\\d*)(?P<unit>\\\\w{0,1})')\\n\\ndef unit_to_mult(unit):\\n    if unit == 'G':\\n        return 1000000000\\n    if unit == 'M':\\n        return 1000000\\n    if unit == 'K':\\n        return 1000\\n    return 1\\n\\ndef to_numeric(elem):\\n    m = human_to_int_re.search(elem)\\n    unit = m.group('unit')\\n    mult = unit_to_mult(unit)\\n    amount = float(m.group('amount'))\\n    return int(amount * mult)\"},\n",
       "  {'cell_type': 'code',\n",
       "   'execution_count': None,\n",
       "   'metadata': {},\n",
       "   'outputs': [],\n",
       "   'source': \"personal_data['IntValue'] = personal_data['Value'].apply(to_numeric)\\npersonal_data.head()\"},\n",
       "  {'cell_type': 'code',\n",
       "   'execution_count': None,\n",
       "   'metadata': {},\n",
       "   'outputs': [],\n",
       "   'source': \"personal_data['IntWage'] = personal_data['Wage'].apply(to_numeric)\\npersonal_data.head()\"},\n",
       "  {'cell_type': 'markdown',\n",
       "   'metadata': {},\n",
       "   'source': '# 2 - Check if there are any missing values'},\n",
       "  {'cell_type': 'code',\n",
       "   'execution_count': None,\n",
       "   'metadata': {},\n",
       "   'outputs': [],\n",
       "   'source': 'personal_data.isnull().any()'},\n",
       "  {'cell_type': 'code',\n",
       "   'execution_count': None,\n",
       "   'metadata': {},\n",
       "   'outputs': [],\n",
       "   'source': 'attribute_data.isnull().any()'},\n",
       "  {'cell_type': 'code',\n",
       "   'execution_count': None,\n",
       "   'metadata': {'scrolled': True},\n",
       "   'outputs': [],\n",
       "   'source': 'complete_data.isnull().any()'},\n",
       "  {'cell_type': 'code',\n",
       "   'execution_count': None,\n",
       "   'metadata': {'scrolled': True},\n",
       "   'outputs': [],\n",
       "   'source': 'position_data.isnull().any()'},\n",
       "  {'cell_type': 'markdown',\n",
       "   'metadata': {},\n",
       "   'source': '# 3 - Which teams have the most players?'},\n",
       "  {'cell_type': 'code',\n",
       "   'execution_count': None,\n",
       "   'metadata': {},\n",
       "   'outputs': [],\n",
       "   'source': \"personal_data.groupby('Club')['Club'].count().idxmax()\"},\n",
       "  {'cell_type': 'markdown',\n",
       "   'metadata': {},\n",
       "   'source': '# 4 - Which team pays the largest total wages?'},\n",
       "  {'cell_type': 'code',\n",
       "   'execution_count': None,\n",
       "   'metadata': {},\n",
       "   'outputs': [],\n",
       "   'source': \"personal_data.groupby('Club').sum()['IntWage'].idxmax()\"},\n",
       "  {'cell_type': 'code',\n",
       "   'execution_count': None,\n",
       "   'metadata': {},\n",
       "   'outputs': [],\n",
       "   'source': \"personal_data.groupby('Club')['IntWage'].sum().sort_values(ascending=False).head()\"},\n",
       "  {'cell_type': 'markdown',\n",
       "   'metadata': {},\n",
       "   'source': '# 5 - Which team pays the largest average wage?'},\n",
       "  {'cell_type': 'code',\n",
       "   'execution_count': None,\n",
       "   'metadata': {},\n",
       "   'outputs': [],\n",
       "   'source': \"personal_data.groupby('Club')['IntWage'].mean().sort_values(ascending=False).head()\"},\n",
       "  {'cell_type': 'markdown',\n",
       "   'metadata': {},\n",
       "   'source': '# 6 - How many players have exactly one preferred positions?'},\n",
       "  {'cell_type': 'code',\n",
       "   'execution_count': None,\n",
       "   'metadata': {},\n",
       "   'outputs': [],\n",
       "   'source': \"position_data['PP List'] = position_data['Preferred Positions'].apply(str.split)\\nprint(len([x for x in position_data['PP List'] if len(x) == 1]))\"},\n",
       "  {'cell_type': 'code',\n",
       "   'execution_count': None,\n",
       "   'metadata': {},\n",
       "   'outputs': [],\n",
       "   'source': \"position_data[position_data['PP List'].apply(len) == 1]\"},\n",
       "  {'cell_type': 'markdown',\n",
       "   'metadata': {},\n",
       "   'source': '# 7 - How many players have at least three preferred positions?'},\n",
       "  {'cell_type': 'code',\n",
       "   'execution_count': None,\n",
       "   'metadata': {},\n",
       "   'outputs': [],\n",
       "   'source': \"len(position_data[position_data['PP List'].apply(len) >= 3])\"}],\n",
       " 'metadata': {'kernelspec': {'display_name': 'Python 3',\n",
       "   'language': 'python',\n",
       "   'name': 'python3'},\n",
       "  'language_info': {'codemirror_mode': {'name': 'ipython', 'version': 3},\n",
       "   'file_extension': '.py',\n",
       "   'mimetype': 'text/x-python',\n",
       "   'name': 'python',\n",
       "   'nbconvert_exporter': 'python',\n",
       "   'pygments_lexer': 'ipython3',\n",
       "   'version': '3.6.6'}},\n",
       " 'nbformat': 4,\n",
       " 'nbformat_minor': 2}"
      ]
     },
     "execution_count": 54,
     "metadata": {},
     "output_type": "execute_result"
    }
   ],
   "source": [
    "ntbk = nbf.read(notebooks[0], nbf.NO_CONVERT)\n",
    "cell = ntbk.cells[4]\n",
    "ntbk\n"
   ]
  },
  {
   "cell_type": "markdown",
   "metadata": {},
   "source": [
    "Look for the tags of each code cell.\n",
    "*  **show** tag means that the content of the cell is shown, but not the result\n",
    "*  **show_output** tag means that the content and the result of the cell are shown"
   ]
  },
  {
   "cell_type": "code",
   "execution_count": 55,
   "metadata": {},
   "outputs": [],
   "source": [
    "for ipath in notebooks:\n",
    "    ntbk = nbf.read(ipath, nbf.NO_CONVERT)\n",
    "    if 'celltoolbar' in ntbk['metadata']:\n",
    "        del ntbk['metadata']['celltoolbar']\n",
    "    for cell in ntbk.cells:\n",
    "        cell_tags = cell.get('metadata', {}).get('tags', [])\n",
    "        if cell['cell_type'] == 'code':\n",
    "            if 'show_output' not in cell_tags and 'outputs' in cell:\n",
    "                cell['outputs'] = []\n",
    "            if 'show_output' not in cell_tags and 'show' not in cell_tags:\n",
    "                cell['source'] = \"\"\n",
    "            \n",
    "    nbf.write(ntbk, \"../students/\" + ipath)"
   ]
  }
 ],
 "metadata": {
  "kernelspec": {
   "display_name": "Python 3",
   "language": "python",
   "name": "python3"
  },
  "language_info": {
   "codemirror_mode": {
    "name": "ipython",
    "version": 3
   },
   "file_extension": ".py",
   "mimetype": "text/x-python",
   "name": "python",
   "nbconvert_exporter": "python",
   "pygments_lexer": "ipython3",
   "version": "3.8.5"
  }
 },
 "nbformat": 4,
 "nbformat_minor": 4
}
