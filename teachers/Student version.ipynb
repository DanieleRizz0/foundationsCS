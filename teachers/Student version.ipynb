{
 "cells": [
  {
   "cell_type": "code",
   "execution_count": 5,
   "metadata": {},
   "outputs": [
    {
     "name": "stdout",
     "output_type": "stream",
     "text": [
      "['./ex-01-lists.ipynb']\n"
     ]
    }
   ],
   "source": [
    "import nbformat as nbf\n",
    "from glob import glob\n",
    "\n",
    "# Collect a list of all notebooks in the content folder\n",
    "notebooks = glob(\"./*-[0-9][5]*.ipynb\")\n",
    "#notebooks = glob(\"./*-01-list*.ipynb\")\n",
    "print(notebooks)"
   ]
  },
  {
   "cell_type": "code",
   "execution_count": 11,
   "metadata": {},
   "outputs": [
    {
     "name": "stdout",
     "output_type": "stream",
     "text": [
      "{'cell_type': 'markdown', 'metadata': {'tags': ['hide']}, 'source': '**Answer:** *It is possible to append an element to a list using the `append` method of it. It is possible to read the documentation directly in the jupyter notebook by issuing one of the following commands.*\\n```python\\nhelp(sw_movies.append)\\nsw_movies.append?\\n```'}\n"
     ]
    }
   ],
   "source": [
    "for ipath in notebooks:\n",
    "    ntbk = nbf.read(ipath, nbf.NO_CONVERT)\n",
    "    if 'celltoolbar' in ntbk['metadata']:\n",
    "        del ntbk['metadata']['celltoolbar']\n",
    "    \n",
    "    # print(ntbk)\n",
    "    \n",
    "    for cell in ntbk.cells:\n",
    "        cell_tags = cell.get('metadata', {}).get('tags', [])\n",
    "        if cell['cell_type'] == 'code':\n",
    "            if 'show_output' not in cell_tags and 'outputs' in cell:\n",
    "                cell['outputs'] = []\n",
    "            if 'show_output' not in cell_tags and 'show' not in cell_tags:\n",
    "                cell['source'] = \"\"\n",
    "        else:\n",
    "            if 'hide' in cell_tags:\n",
    "                cell['source'] = \"\"\n",
    "               \n",
    "            \n",
    "    nbf.write(ntbk, \"../students/\" + ipath)"
   ]
  },
  {
   "cell_type": "markdown",
   "metadata": {},
   "source": [
    "Look for the tags of each code cell.\n",
    "*  **show** tag means that the content of the cell is shown, but not the result\n",
    "*  **show_output** tag means that the content and the result of the cell are shown"
   ]
  },
  {
   "cell_type": "code",
   "execution_count": null,
   "metadata": {},
   "outputs": [],
   "source": []
  }
 ],
 "metadata": {
  "kernelspec": {
   "display_name": "Python 3",
   "language": "python",
   "name": "python3"
  },
  "language_info": {
   "codemirror_mode": {
    "name": "ipython",
    "version": 3
   },
   "file_extension": ".py",
   "mimetype": "text/x-python",
   "name": "python",
   "nbconvert_exporter": "python",
   "pygments_lexer": "ipython3",
   "version": "3.8.5"
  }
 },
 "nbformat": 4,
 "nbformat_minor": 4
}
