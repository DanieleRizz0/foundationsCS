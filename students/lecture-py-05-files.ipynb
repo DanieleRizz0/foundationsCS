{
 "cells": [
  {
   "cell_type": "markdown",
   "metadata": {},
   "source": [
    "## Files\n",
    "\n",
    "Files are objects you can *read* and *write* to.  There are 3 types of file objects (binary, buffered binary, and text) and we will focus mainly on [text files](https://docs.python.org/3/glossary.html#term-text-file).\n",
    "Text files are files objects that read and write `str` objects, that is sequences of characters.\n",
    "\n",
    "Before using a file you have to `open` a file handler using the `open` built-in function.\n",
    "Take a look at its documentation writing in a code cell one of the two following commands\n",
    "```python\n",
    "open?\n",
    "help(open)\n",
    "```"
   ]
  },
  {
   "cell_type": "code",
   "execution_count": 1,
   "metadata": {
    "tags": [
     "show"
    ]
   },
   "outputs": [],
   "source": [
    "help(open)"
   ]
  },
  {
   "cell_type": "markdown",
   "metadata": {},
   "source": [
    "Please read carefully the second paragraph of the documentation (the one that starts with `mode is an optional string [...]`.  Please familiarize with modes `'r'`, `'w'`, and `'a'`."
   ]
  },
  {
   "cell_type": "markdown",
   "metadata": {},
   "source": [
    "Read the file `PromessiSposi.txt` in the folder `ex-data` and save its content in a list.\n",
    "Notice that each element of the list ends with `\\n` which is the **newline** symbol."
   ]
  },
  {
   "cell_type": "code",
   "execution_count": 6,
   "metadata": {},
   "outputs": [],
   "source": []
  },
  {
   "cell_type": "markdown",
   "metadata": {},
   "source": [
    "Re-read the file `PromessiSposi.txt` and use [`strip`](https://docs.python.org/3/library/string.html#string.strip) to remove the trailing newline symbol (store the lines in a list)."
   ]
  },
  {
   "cell_type": "code",
   "execution_count": 7,
   "metadata": {},
   "outputs": [],
   "source": []
  },
  {
   "cell_type": "markdown",
   "metadata": {},
   "source": [
    "Create a dictionary `promised_words` that maps each distinct word in `PromessiSposi.txt` to the number of times it appears in it.  Use [`split`](https://docs.python.org/3/library/stdtypes.html#str.split)."
   ]
  },
  {
   "cell_type": "code",
   "execution_count": 9,
   "metadata": {},
   "outputs": [],
   "source": []
  },
  {
   "cell_type": "markdown",
   "metadata": {},
   "source": [
    "Redo the same, using the [Counter](https://docs.python.org/3/library/collections.html#collections.Counter) data structure of the `collections` library."
   ]
  },
  {
   "cell_type": "code",
   "execution_count": 15,
   "metadata": {},
   "outputs": [],
   "source": []
  },
  {
   "cell_type": "markdown",
   "metadata": {},
   "source": [
    "Create a file 'words_occurrences.txt' and write each distinct word of 'PromessiSposi.txt' alongside the number of occurrences of such word."
   ]
  },
  {
   "cell_type": "code",
   "execution_count": 16,
   "metadata": {},
   "outputs": [],
   "source": []
  },
  {
   "cell_type": "markdown",
   "metadata": {},
   "source": [
    "## Files\n",
    "\n",
    "Open the file `ex-data/if.txt` and read all its content"
   ]
  }
 ],
 "metadata": {
  "kernelspec": {
   "display_name": "Python 3",
   "language": "python",
   "name": "python3"
  },
  "language_info": {
   "codemirror_mode": {
    "name": "ipython",
    "version": 3
   },
   "file_extension": ".py",
   "mimetype": "text/x-python",
   "name": "python",
   "nbconvert_exporter": "python",
   "pygments_lexer": "ipython3",
   "version": "3.8.5"
  }
 },
 "nbformat": 4,
 "nbformat_minor": 2
}
