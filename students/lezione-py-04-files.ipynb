{
 "cells": [
  {
   "cell_type": "markdown",
   "metadata": {
    "tags": [
     "show"
    ]
   },
   "source": [
    "## Files\n",
    "\n",
    "Open the file `ex-data/if.txt` and read all its content"
   ]
  },
  {
   "cell_type": "markdown",
   "metadata": {
    "tags": [
     "show"
    ]
   },
   "source": [
    "## Functions\n",
    "\n",
    "Are essential to split a program in different parts. Each function is a black box.\n",
    "\n",
    "Argument and return value"
   ]
  },
  {
   "cell_type": "code",
   "execution_count": 1,
   "metadata": {},
   "outputs": [],
   "source": []
  },
  {
   "cell_type": "code",
   "execution_count": 2,
   "metadata": {
    "tags": [
     "show",
     "show_output"
    ]
   },
   "outputs": [
    {
     "data": {
      "text/plain": [
       "8"
      ]
     },
     "execution_count": 2,
     "metadata": {},
     "output_type": "execute_result"
    }
   ],
   "source": [
    "4 + 4"
   ]
  },
  {
   "cell_type": "code",
   "execution_count": null,
   "metadata": {},
   "outputs": [],
   "source": []
  }
 ],
 "metadata": {
  "kernelspec": {
   "display_name": "Python 3",
   "language": "python",
   "name": "python3"
  },
  "language_info": {
   "codemirror_mode": {
    "name": "ipython",
    "version": 3
   },
   "file_extension": ".py",
   "mimetype": "text/x-python",
   "name": "python",
   "nbconvert_exporter": "python",
   "pygments_lexer": "ipython3",
   "version": "3.8.5"
  }
 },
 "nbformat": 4,
 "nbformat_minor": 2
}
